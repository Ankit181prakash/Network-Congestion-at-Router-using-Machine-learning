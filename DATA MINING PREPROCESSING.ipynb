{
 "cells": [
  {
   "cell_type": "code",
   "execution_count": 20,
   "id": "473af171",
   "metadata": {},
   "outputs": [],
   "source": [
    "import pandas as pd\n",
    "from sklearn.preprocessing import LabelEncoder, MinMaxScaler"
   ]
  },
  {
   "cell_type": "code",
   "execution_count": 21,
   "id": "407639f1",
   "metadata": {},
   "outputs": [],
   "source": [
    "file_path = \"original_data_ser.csv\"\n",
    "df = pd.read_csv(file_path)"
   ]
  },
  {
   "cell_type": "code",
   "execution_count": 22,
   "id": "32cf8fed",
   "metadata": {},
   "outputs": [
    {
     "name": "stdout",
     "output_type": "stream",
     "text": [
      "Initial Dataset Info:\n",
      "\n",
      "<class 'pandas.core.frame.DataFrame'>\n",
      "RangeIndex: 150000 entries, 0 to 149999\n",
      "Data columns (total 10 columns):\n",
      " #   Column                                  Non-Null Count   Dtype  \n",
      "---  ------                                  --------------   -----  \n",
      " 0   Current number of packets in queue      149250 non-null  float64\n",
      " 1   Remaining space to store the packets    150000 non-null  int64  \n",
      " 2   Current queue size in percentage (%)    150000 non-null  int64  \n",
      " 3   Remaining queue size in percentage (%)  150000 non-null  int64  \n",
      " 4   Old Average                             150000 non-null  object \n",
      " 5   Current Average                         150000 non-null  float64\n",
      " 6   Prediction                              150000 non-null  int64  \n",
      " 7   Queue Utilization Ratio                 150000 non-null  float64\n",
      " 8   Packet Drop Probability                 150000 non-null  float64\n",
      " 9   Congestion Level                        150000 non-null  object \n",
      "dtypes: float64(4), int64(4), object(2)\n",
      "memory usage: 11.4+ MB\n"
     ]
    },
    {
     "data": {
      "text/html": [
       "<div>\n",
       "<style scoped>\n",
       "    .dataframe tbody tr th:only-of-type {\n",
       "        vertical-align: middle;\n",
       "    }\n",
       "\n",
       "    .dataframe tbody tr th {\n",
       "        vertical-align: top;\n",
       "    }\n",
       "\n",
       "    .dataframe thead th {\n",
       "        text-align: right;\n",
       "    }\n",
       "</style>\n",
       "<table border=\"1\" class=\"dataframe\">\n",
       "  <thead>\n",
       "    <tr style=\"text-align: right;\">\n",
       "      <th></th>\n",
       "      <th>Current number of packets in queue</th>\n",
       "      <th>Remaining space to store the packets</th>\n",
       "      <th>Current queue size in percentage (%)</th>\n",
       "      <th>Remaining queue size in percentage (%)</th>\n",
       "      <th>Old Average</th>\n",
       "      <th>Current Average</th>\n",
       "      <th>Prediction</th>\n",
       "      <th>Queue Utilization Ratio</th>\n",
       "      <th>Packet Drop Probability</th>\n",
       "      <th>Congestion Level</th>\n",
       "    </tr>\n",
       "  </thead>\n",
       "  <tbody>\n",
       "    <tr>\n",
       "      <th>0</th>\n",
       "      <td>38.0</td>\n",
       "      <td>12</td>\n",
       "      <td>76</td>\n",
       "      <td>24</td>\n",
       "      <td>27.870661857309</td>\n",
       "      <td>28.158006</td>\n",
       "      <td>1</td>\n",
       "      <td>0.76</td>\n",
       "      <td>0.154205</td>\n",
       "      <td>High</td>\n",
       "    </tr>\n",
       "    <tr>\n",
       "      <th>1</th>\n",
       "      <td>28.0</td>\n",
       "      <td>22</td>\n",
       "      <td>56</td>\n",
       "      <td>44</td>\n",
       "      <td>2.73261646717438</td>\n",
       "      <td>2.692447</td>\n",
       "      <td>0</td>\n",
       "      <td>0.56</td>\n",
       "      <td>0.107559</td>\n",
       "      <td>Medium</td>\n",
       "    </tr>\n",
       "    <tr>\n",
       "      <th>2</th>\n",
       "      <td>14.0</td>\n",
       "      <td>36</td>\n",
       "      <td>28</td>\n",
       "      <td>72</td>\n",
       "      <td>21.6606174160322</td>\n",
       "      <td>21.892917</td>\n",
       "      <td>0</td>\n",
       "      <td>0.28</td>\n",
       "      <td>0.096912</td>\n",
       "      <td>Low</td>\n",
       "    </tr>\n",
       "    <tr>\n",
       "      <th>3</th>\n",
       "      <td>42.0</td>\n",
       "      <td>8</td>\n",
       "      <td>84</td>\n",
       "      <td>16</td>\n",
       "      <td>4.06378125743397</td>\n",
       "      <td>4.204988</td>\n",
       "      <td>1</td>\n",
       "      <td>0.84</td>\n",
       "      <td>0.102336</td>\n",
       "      <td>High</td>\n",
       "    </tr>\n",
       "    <tr>\n",
       "      <th>4</th>\n",
       "      <td>7.0</td>\n",
       "      <td>43</td>\n",
       "      <td>14</td>\n",
       "      <td>86</td>\n",
       "      <td>0.601011062510428</td>\n",
       "      <td>0.167125</td>\n",
       "      <td>0</td>\n",
       "      <td>0.14</td>\n",
       "      <td>0.149147</td>\n",
       "      <td>Low</td>\n",
       "    </tr>\n",
       "  </tbody>\n",
       "</table>\n",
       "</div>"
      ],
      "text/plain": [
       "   Current number of packets in queue  Remaining space to store the packets   \n",
       "0                                38.0                                    12  \\\n",
       "1                                28.0                                    22   \n",
       "2                                14.0                                    36   \n",
       "3                                42.0                                     8   \n",
       "4                                 7.0                                    43   \n",
       "\n",
       "   Current queue size in percentage (%)   \n",
       "0                                    76  \\\n",
       "1                                    56   \n",
       "2                                    28   \n",
       "3                                    84   \n",
       "4                                    14   \n",
       "\n",
       "   Remaining queue size in percentage (%)        Old Average  Current Average   \n",
       "0                                      24    27.870661857309        28.158006  \\\n",
       "1                                      44   2.73261646717438         2.692447   \n",
       "2                                      72   21.6606174160322        21.892917   \n",
       "3                                      16   4.06378125743397         4.204988   \n",
       "4                                      86  0.601011062510428         0.167125   \n",
       "\n",
       "   Prediction  Queue Utilization Ratio  Packet Drop Probability   \n",
       "0           1                     0.76                 0.154205  \\\n",
       "1           0                     0.56                 0.107559   \n",
       "2           0                     0.28                 0.096912   \n",
       "3           1                     0.84                 0.102336   \n",
       "4           0                     0.14                 0.149147   \n",
       "\n",
       "  Congestion Level  \n",
       "0             High  \n",
       "1           Medium  \n",
       "2              Low  \n",
       "3             High  \n",
       "4              Low  "
      ]
     },
     "metadata": {},
     "output_type": "display_data"
    }
   ],
   "source": [
    "print(\"Initial Dataset Info:\\n\")\n",
    "df.info()\n",
    "display(df.head())"
   ]
  },
  {
   "cell_type": "code",
   "execution_count": 23,
   "id": "d897c72b",
   "metadata": {},
   "outputs": [],
   "source": [
    "df_original = df.copy()"
   ]
  },
  {
   "cell_type": "code",
   "execution_count": 24,
   "id": "1eab3161",
   "metadata": {},
   "outputs": [
    {
     "name": "stdout",
     "output_type": "stream",
     "text": [
      "\n",
      "Step 1: Handling Missing Values\n",
      "\n"
     ]
    }
   ],
   "source": [
    "print(\"\\nStep 1: Handling Missing Values\\n\")\n"
   ]
  },
  {
   "cell_type": "code",
   "execution_count": 25,
   "id": "1180b31c",
   "metadata": {},
   "outputs": [
    {
     "name": "stdout",
     "output_type": "stream",
     "text": [
      "Missing Rows (Before Dropping):\n",
      "\n"
     ]
    },
    {
     "data": {
      "text/html": [
       "<div>\n",
       "<style scoped>\n",
       "    .dataframe tbody tr th:only-of-type {\n",
       "        vertical-align: middle;\n",
       "    }\n",
       "\n",
       "    .dataframe tbody tr th {\n",
       "        vertical-align: top;\n",
       "    }\n",
       "\n",
       "    .dataframe thead th {\n",
       "        text-align: right;\n",
       "    }\n",
       "</style>\n",
       "<table border=\"1\" class=\"dataframe\">\n",
       "  <thead>\n",
       "    <tr style=\"text-align: right;\">\n",
       "      <th></th>\n",
       "      <th>Current number of packets in queue</th>\n",
       "      <th>Remaining space to store the packets</th>\n",
       "      <th>Current queue size in percentage (%)</th>\n",
       "      <th>Remaining queue size in percentage (%)</th>\n",
       "      <th>Old Average</th>\n",
       "      <th>Current Average</th>\n",
       "      <th>Prediction</th>\n",
       "      <th>Queue Utilization Ratio</th>\n",
       "      <th>Packet Drop Probability</th>\n",
       "      <th>Congestion Level</th>\n",
       "    </tr>\n",
       "  </thead>\n",
       "  <tbody>\n",
       "    <tr>\n",
       "      <th>51</th>\n",
       "      <td>NaN</td>\n",
       "      <td>25</td>\n",
       "      <td>50</td>\n",
       "      <td>50</td>\n",
       "      <td>25.6145544668571</td>\n",
       "      <td>26.293161</td>\n",
       "      <td>0</td>\n",
       "      <td>0.50</td>\n",
       "      <td>0.125669</td>\n",
       "      <td>Medium</td>\n",
       "    </tr>\n",
       "    <tr>\n",
       "      <th>316</th>\n",
       "      <td>NaN</td>\n",
       "      <td>33</td>\n",
       "      <td>34</td>\n",
       "      <td>66</td>\n",
       "      <td>17.9238416743728</td>\n",
       "      <td>18.613591</td>\n",
       "      <td>0</td>\n",
       "      <td>0.34</td>\n",
       "      <td>0.039180</td>\n",
       "      <td>Low</td>\n",
       "    </tr>\n",
       "    <tr>\n",
       "      <th>420</th>\n",
       "      <td>NaN</td>\n",
       "      <td>6</td>\n",
       "      <td>88</td>\n",
       "      <td>12</td>\n",
       "      <td>6.88251951258622</td>\n",
       "      <td>6.352895</td>\n",
       "      <td>1</td>\n",
       "      <td>0.88</td>\n",
       "      <td>0.122765</td>\n",
       "      <td>High</td>\n",
       "    </tr>\n",
       "    <tr>\n",
       "      <th>492</th>\n",
       "      <td>NaN</td>\n",
       "      <td>39</td>\n",
       "      <td>22</td>\n",
       "      <td>78</td>\n",
       "      <td>17.8450924570323</td>\n",
       "      <td>17.565701</td>\n",
       "      <td>0</td>\n",
       "      <td>0.22</td>\n",
       "      <td>0.074069</td>\n",
       "      <td>Low</td>\n",
       "    </tr>\n",
       "    <tr>\n",
       "      <th>520</th>\n",
       "      <td>NaN</td>\n",
       "      <td>46</td>\n",
       "      <td>8</td>\n",
       "      <td>92</td>\n",
       "      <td>20.9511614589215</td>\n",
       "      <td>21.834688</td>\n",
       "      <td>0</td>\n",
       "      <td>0.08</td>\n",
       "      <td>0.019296</td>\n",
       "      <td>Low</td>\n",
       "    </tr>\n",
       "  </tbody>\n",
       "</table>\n",
       "</div>"
      ],
      "text/plain": [
       "     Current number of packets in queue  Remaining space to store the packets   \n",
       "51                                  NaN                                    25  \\\n",
       "316                                 NaN                                    33   \n",
       "420                                 NaN                                     6   \n",
       "492                                 NaN                                    39   \n",
       "520                                 NaN                                    46   \n",
       "\n",
       "     Current queue size in percentage (%)   \n",
       "51                                     50  \\\n",
       "316                                    34   \n",
       "420                                    88   \n",
       "492                                    22   \n",
       "520                                     8   \n",
       "\n",
       "     Remaining queue size in percentage (%)       Old Average   \n",
       "51                                       50  25.6145544668571  \\\n",
       "316                                      66  17.9238416743728   \n",
       "420                                      12  6.88251951258622   \n",
       "492                                      78  17.8450924570323   \n",
       "520                                      92  20.9511614589215   \n",
       "\n",
       "     Current Average  Prediction  Queue Utilization Ratio   \n",
       "51         26.293161           0                     0.50  \\\n",
       "316        18.613591           0                     0.34   \n",
       "420         6.352895           1                     0.88   \n",
       "492        17.565701           0                     0.22   \n",
       "520        21.834688           0                     0.08   \n",
       "\n",
       "     Packet Drop Probability Congestion Level  \n",
       "51                  0.125669           Medium  \n",
       "316                 0.039180              Low  \n",
       "420                 0.122765             High  \n",
       "492                 0.074069              Low  \n",
       "520                 0.019296              Low  "
      ]
     },
     "metadata": {},
     "output_type": "display_data"
    }
   ],
   "source": [
    "missing_rows = df[df['Current number of packets in queue'].isnull()]\n",
    "print(\"Missing Rows (Before Dropping):\\n\")\n",
    "display(missing_rows.head(5))\n"
   ]
  },
  {
   "cell_type": "code",
   "execution_count": 26,
   "id": "9780226c",
   "metadata": {},
   "outputs": [],
   "source": [
    "df.dropna(subset=['Current number of packets in queue'], inplace=True)\n"
   ]
  },
  {
   "cell_type": "code",
   "execution_count": 27,
   "id": "922d913c",
   "metadata": {},
   "outputs": [
    {
     "name": "stdout",
     "output_type": "stream",
     "text": [
      "Shape before dropping: (150000, 10) | Shape after dropping: (149250, 10)\n"
     ]
    }
   ],
   "source": [
    "print(\"Shape before dropping:\", df_original.shape, \"| Shape after dropping:\", df.shape)\n"
   ]
  },
  {
   "cell_type": "code",
   "execution_count": 28,
   "id": "55c8f372",
   "metadata": {},
   "outputs": [
    {
     "name": "stdout",
     "output_type": "stream",
     "text": [
      "\n",
      "Step 2: Fixing Wrong Data Types\n",
      "\n"
     ]
    }
   ],
   "source": [
    "print(\"\\nStep 2: Fixing Wrong Data Types\\n\")\n"
   ]
  },
  {
   "cell_type": "code",
   "execution_count": 29,
   "id": "a3074f01",
   "metadata": {},
   "outputs": [
    {
     "name": "stdout",
     "output_type": "stream",
     "text": [
      "Old Average before conversion (non-numeric sample):\n"
     ]
    },
    {
     "data": {
      "text/plain": [
       "0      27.870661857309\n",
       "1     2.73261646717438\n",
       "2     21.6606174160322\n",
       "3     4.06378125743397\n",
       "4    0.601011062510428\n",
       "Name: Old Average, dtype: object"
      ]
     },
     "metadata": {},
     "output_type": "display_data"
    }
   ],
   "source": [
    "print(\"Old Average before conversion (non-numeric sample):\")\n",
    "display(df_original['Old Average'].head(5))\n"
   ]
  },
  {
   "cell_type": "code",
   "execution_count": 30,
   "id": "9dc672b8",
   "metadata": {},
   "outputs": [],
   "source": [
    "df['Old Average'] = pd.to_numeric(df['Old Average'], errors='coerce')\n"
   ]
  },
  {
   "cell_type": "code",
   "execution_count": 31,
   "id": "f5783c78",
   "metadata": {},
   "outputs": [],
   "source": [
    "label_encoder = LabelEncoder()\n",
    "df['Congestion Level'] = label_encoder.fit_transform(df['Congestion Level'])"
   ]
  },
  {
   "cell_type": "code",
   "execution_count": 32,
   "id": "5e2700a7",
   "metadata": {},
   "outputs": [
    {
     "name": "stdout",
     "output_type": "stream",
     "text": [
      "Old Average after conversion:\n"
     ]
    },
    {
     "data": {
      "text/plain": [
       "0    27.870662\n",
       "1     2.732616\n",
       "2    21.660617\n",
       "3     4.063781\n",
       "4     0.601011\n",
       "Name: Old Average, dtype: float64"
      ]
     },
     "metadata": {},
     "output_type": "display_data"
    },
    {
     "name": "stdout",
     "output_type": "stream",
     "text": [
      "\n",
      "Encoded 'Congestion Level' sample mapping:\n",
      "{'Hgh': 0, 'High': 1, 'Low': 2, 'Medium': 3}\n"
     ]
    }
   ],
   "source": [
    "print(\"Old Average after conversion:\")\n",
    "display(df['Old Average'].head(5))\n",
    "print(\"\\nEncoded 'Congestion Level' sample mapping:\")\n",
    "print(dict(zip(label_encoder.classes_, label_encoder.transform(label_encoder.classes_))))\n"
   ]
  },
  {
   "cell_type": "code",
   "execution_count": 33,
   "id": "f24dc793",
   "metadata": {},
   "outputs": [
    {
     "name": "stdout",
     "output_type": "stream",
     "text": [
      "\n",
      "Step 3: Removing Redundant Feature\n",
      "\n"
     ]
    }
   ],
   "source": [
    "print(\"\\nStep 3: Removing Redundant Feature\\n\")\n"
   ]
  },
  {
   "cell_type": "code",
   "execution_count": 34,
   "id": "225155c6",
   "metadata": {},
   "outputs": [
    {
     "name": "stdout",
     "output_type": "stream",
     "text": [
      "Before Dropping:\n"
     ]
    },
    {
     "data": {
      "text/html": [
       "<div>\n",
       "<style scoped>\n",
       "    .dataframe tbody tr th:only-of-type {\n",
       "        vertical-align: middle;\n",
       "    }\n",
       "\n",
       "    .dataframe tbody tr th {\n",
       "        vertical-align: top;\n",
       "    }\n",
       "\n",
       "    .dataframe thead th {\n",
       "        text-align: right;\n",
       "    }\n",
       "</style>\n",
       "<table border=\"1\" class=\"dataframe\">\n",
       "  <thead>\n",
       "    <tr style=\"text-align: right;\">\n",
       "      <th></th>\n",
       "      <th>Current queue size in percentage (%)</th>\n",
       "      <th>Remaining queue size in percentage (%)</th>\n",
       "    </tr>\n",
       "  </thead>\n",
       "  <tbody>\n",
       "    <tr>\n",
       "      <th>0</th>\n",
       "      <td>76</td>\n",
       "      <td>24</td>\n",
       "    </tr>\n",
       "    <tr>\n",
       "      <th>1</th>\n",
       "      <td>56</td>\n",
       "      <td>44</td>\n",
       "    </tr>\n",
       "    <tr>\n",
       "      <th>2</th>\n",
       "      <td>28</td>\n",
       "      <td>72</td>\n",
       "    </tr>\n",
       "    <tr>\n",
       "      <th>3</th>\n",
       "      <td>84</td>\n",
       "      <td>16</td>\n",
       "    </tr>\n",
       "    <tr>\n",
       "      <th>4</th>\n",
       "      <td>14</td>\n",
       "      <td>86</td>\n",
       "    </tr>\n",
       "  </tbody>\n",
       "</table>\n",
       "</div>"
      ],
      "text/plain": [
       "   Current queue size in percentage (%)   \n",
       "0                                    76  \\\n",
       "1                                    56   \n",
       "2                                    28   \n",
       "3                                    84   \n",
       "4                                    14   \n",
       "\n",
       "   Remaining queue size in percentage (%)  \n",
       "0                                      24  \n",
       "1                                      44  \n",
       "2                                      72  \n",
       "3                                      16  \n",
       "4                                      86  "
      ]
     },
     "metadata": {},
     "output_type": "display_data"
    }
   ],
   "source": [
    "print(\"Before Dropping:\")\n",
    "display(df_original[['Current queue size in percentage (%)',\n",
    "                     'Remaining queue size in percentage (%)']].head(5))"
   ]
  },
  {
   "cell_type": "code",
   "execution_count": 35,
   "id": "3f64ed96",
   "metadata": {},
   "outputs": [],
   "source": [
    "df.drop(columns=['Remaining queue size in percentage (%)'], inplace=True)\n"
   ]
  },
  {
   "cell_type": "code",
   "execution_count": 36,
   "id": "2bd2248d",
   "metadata": {},
   "outputs": [
    {
     "name": "stdout",
     "output_type": "stream",
     "text": [
      "Columns after dropping: ['Current number of packets in queue', 'Remaining space to store the packets', 'Current queue size in percentage (%)', 'Old Average', 'Current Average', 'Prediction', 'Queue Utilization Ratio', 'Packet Drop Probability', 'Congestion Level']\n"
     ]
    }
   ],
   "source": [
    "print(\"Columns after dropping:\", df.columns.tolist())\n"
   ]
  },
  {
   "cell_type": "code",
   "execution_count": 37,
   "id": "8a0e10b7",
   "metadata": {},
   "outputs": [
    {
     "name": "stdout",
     "output_type": "stream",
     "text": [
      "\n",
      "Step 4: Handling Outliers\n",
      "\n"
     ]
    }
   ],
   "source": [
    "print(\"\\nStep 4: Handling Outliers\\n\")\n"
   ]
  },
  {
   "cell_type": "code",
   "execution_count": 38,
   "id": "cb583f54",
   "metadata": {},
   "outputs": [],
   "source": [
    "def find_outliers_iqr(data, column):\n",
    "    Q1 = data[column].quantile(0.25)\n",
    "    Q3 = data[column].quantile(0.75)\n",
    "    IQR = Q3 - Q1\n",
    "    lower_bound = Q1 - 1.5 * IQR\n",
    "    upper_bound = Q3 + 1.5 * IQR\n",
    "    return data[(data[column] < lower_bound) | (data[column] > upper_bound)]\n"
   ]
  },
  {
   "cell_type": "code",
   "execution_count": 39,
   "id": "6f87acfb",
   "metadata": {},
   "outputs": [],
   "source": [
    "def remove_outliers_iqr(data, column):\n",
    "    Q1 = data[column].quantile(0.25)\n",
    "    Q3 = data[column].quantile(0.75)\n",
    "    IQR = Q3 - Q1\n",
    "    lower_bound = Q1 - 1.5 * IQR\n",
    "    upper_bound = Q3 + 1.5 * IQR\n",
    "    return data[(data[column] >= lower_bound) & (data[column] <= upper_bound)]"
   ]
  },
  {
   "cell_type": "code",
   "execution_count": 40,
   "id": "7102172e",
   "metadata": {},
   "outputs": [],
   "source": [
    "outlier_cols = [\n",
    "    'Queue Utilization Ratio',\n",
    "    'Packet Drop Probability',\n",
    "    'Current number of packets in queue'\n",
    "]"
   ]
  },
  {
   "cell_type": "code",
   "execution_count": 41,
   "id": "256aa8df",
   "metadata": {},
   "outputs": [
    {
     "name": "stdout",
     "output_type": "stream",
     "text": [
      "\n",
      "Outliers detected in 'Queue Utilization Ratio': 0\n",
      "Removed 0 rows for 'Queue Utilization Ratio'\n",
      "\n",
      "Outliers detected in 'Packet Drop Probability': 517\n"
     ]
    },
    {
     "data": {
      "text/html": [
       "<div>\n",
       "<style scoped>\n",
       "    .dataframe tbody tr th:only-of-type {\n",
       "        vertical-align: middle;\n",
       "    }\n",
       "\n",
       "    .dataframe tbody tr th {\n",
       "        vertical-align: top;\n",
       "    }\n",
       "\n",
       "    .dataframe thead th {\n",
       "        text-align: right;\n",
       "    }\n",
       "</style>\n",
       "<table border=\"1\" class=\"dataframe\">\n",
       "  <thead>\n",
       "    <tr style=\"text-align: right;\">\n",
       "      <th></th>\n",
       "      <th>Packet Drop Probability</th>\n",
       "    </tr>\n",
       "  </thead>\n",
       "  <tbody>\n",
       "    <tr>\n",
       "      <th>790</th>\n",
       "      <td>0.235489</td>\n",
       "    </tr>\n",
       "    <tr>\n",
       "      <th>833</th>\n",
       "      <td>0.235848</td>\n",
       "    </tr>\n",
       "    <tr>\n",
       "      <th>1091</th>\n",
       "      <td>0.280542</td>\n",
       "    </tr>\n",
       "    <tr>\n",
       "      <th>2388</th>\n",
       "      <td>0.272691</td>\n",
       "    </tr>\n",
       "    <tr>\n",
       "      <th>2735</th>\n",
       "      <td>0.287755</td>\n",
       "    </tr>\n",
       "  </tbody>\n",
       "</table>\n",
       "</div>"
      ],
      "text/plain": [
       "      Packet Drop Probability\n",
       "790                  0.235489\n",
       "833                  0.235848\n",
       "1091                 0.280542\n",
       "2388                 0.272691\n",
       "2735                 0.287755"
      ]
     },
     "metadata": {},
     "output_type": "display_data"
    },
    {
     "name": "stdout",
     "output_type": "stream",
     "text": [
      "Removed 517 rows for 'Packet Drop Probability'\n",
      "\n",
      "Outliers detected in 'Current number of packets in queue': 0\n",
      "Removed 0 rows for 'Current number of packets in queue'\n"
     ]
    }
   ],
   "source": [
    "\n",
    "for col in outlier_cols:\n",
    "    # Find outliers before removal\n",
    "    outliers = find_outliers_iqr(df, col)\n",
    "    print(f\"\\nOutliers detected in '{col}': {len(outliers)}\")\n",
    "    if len(outliers) > 0:\n",
    "        display(outliers[[col]].head(5))  # Show first 5 outliers\n",
    "    \n",
    "    before = len(df)\n",
    "    df = remove_outliers_iqr(df, col)\n",
    "    after = len(df)\n",
    "    print(f\"Removed {before - after} rows for '{col}'\")"
   ]
  },
  {
   "cell_type": "code",
   "execution_count": 42,
   "id": "3fe71def",
   "metadata": {},
   "outputs": [
    {
     "name": "stdout",
     "output_type": "stream",
     "text": [
      "\n",
      "Step 5: Fixing Inconsistent Data\n",
      "\n"
     ]
    }
   ],
   "source": [
    "print(\"\\nStep 5: Fixing Inconsistent Data\\n\")\n"
   ]
  },
  {
   "cell_type": "code",
   "execution_count": 43,
   "id": "a216fd22",
   "metadata": {},
   "outputs": [],
   "source": [
    "invalid_ratio = df[(df['Queue Utilization Ratio'] < 0) | (df['Queue Utilization Ratio'] > 1)]\n",
    "invalid_prob = df[(df['Packet Drop Probability'] < 0) | (df['Packet Drop Probability'] > 1)]\n"
   ]
  },
  {
   "cell_type": "code",
   "execution_count": 44,
   "id": "5972d268",
   "metadata": {},
   "outputs": [
    {
     "name": "stdout",
     "output_type": "stream",
     "text": [
      "Invalid Queue Utilization Ratio rows (if any):\n"
     ]
    },
    {
     "data": {
      "text/html": [
       "<div>\n",
       "<style scoped>\n",
       "    .dataframe tbody tr th:only-of-type {\n",
       "        vertical-align: middle;\n",
       "    }\n",
       "\n",
       "    .dataframe tbody tr th {\n",
       "        vertical-align: top;\n",
       "    }\n",
       "\n",
       "    .dataframe thead th {\n",
       "        text-align: right;\n",
       "    }\n",
       "</style>\n",
       "<table border=\"1\" class=\"dataframe\">\n",
       "  <thead>\n",
       "    <tr style=\"text-align: right;\">\n",
       "      <th></th>\n",
       "      <th>Current number of packets in queue</th>\n",
       "      <th>Remaining space to store the packets</th>\n",
       "      <th>Current queue size in percentage (%)</th>\n",
       "      <th>Old Average</th>\n",
       "      <th>Current Average</th>\n",
       "      <th>Prediction</th>\n",
       "      <th>Queue Utilization Ratio</th>\n",
       "      <th>Packet Drop Probability</th>\n",
       "      <th>Congestion Level</th>\n",
       "    </tr>\n",
       "  </thead>\n",
       "  <tbody>\n",
       "  </tbody>\n",
       "</table>\n",
       "</div>"
      ],
      "text/plain": [
       "Empty DataFrame\n",
       "Columns: [Current number of packets in queue, Remaining space to store the packets, Current queue size in percentage (%), Old Average, Current Average, Prediction, Queue Utilization Ratio, Packet Drop Probability, Congestion Level]\n",
       "Index: []"
      ]
     },
     "metadata": {},
     "output_type": "display_data"
    }
   ],
   "source": [
    "print(\"Invalid Queue Utilization Ratio rows (if any):\")\n",
    "display(invalid_ratio.head(5))"
   ]
  },
  {
   "cell_type": "code",
   "execution_count": 45,
   "id": "26e2a87d",
   "metadata": {},
   "outputs": [
    {
     "name": "stdout",
     "output_type": "stream",
     "text": [
      "Invalid Packet Drop Probability rows (if any):\n"
     ]
    },
    {
     "data": {
      "text/html": [
       "<div>\n",
       "<style scoped>\n",
       "    .dataframe tbody tr th:only-of-type {\n",
       "        vertical-align: middle;\n",
       "    }\n",
       "\n",
       "    .dataframe tbody tr th {\n",
       "        vertical-align: top;\n",
       "    }\n",
       "\n",
       "    .dataframe thead th {\n",
       "        text-align: right;\n",
       "    }\n",
       "</style>\n",
       "<table border=\"1\" class=\"dataframe\">\n",
       "  <thead>\n",
       "    <tr style=\"text-align: right;\">\n",
       "      <th></th>\n",
       "      <th>Current number of packets in queue</th>\n",
       "      <th>Remaining space to store the packets</th>\n",
       "      <th>Current queue size in percentage (%)</th>\n",
       "      <th>Old Average</th>\n",
       "      <th>Current Average</th>\n",
       "      <th>Prediction</th>\n",
       "      <th>Queue Utilization Ratio</th>\n",
       "      <th>Packet Drop Probability</th>\n",
       "      <th>Congestion Level</th>\n",
       "    </tr>\n",
       "  </thead>\n",
       "  <tbody>\n",
       "  </tbody>\n",
       "</table>\n",
       "</div>"
      ],
      "text/plain": [
       "Empty DataFrame\n",
       "Columns: [Current number of packets in queue, Remaining space to store the packets, Current queue size in percentage (%), Old Average, Current Average, Prediction, Queue Utilization Ratio, Packet Drop Probability, Congestion Level]\n",
       "Index: []"
      ]
     },
     "metadata": {},
     "output_type": "display_data"
    }
   ],
   "source": [
    "print(\"Invalid Packet Drop Probability rows (if any):\")\n",
    "display(invalid_prob.head(5))"
   ]
  },
  {
   "cell_type": "code",
   "execution_count": 46,
   "id": "0bbe04c2",
   "metadata": {},
   "outputs": [],
   "source": [
    "df['Queue Utilization Ratio'] = df['Queue Utilization Ratio'].clip(0, 1)\n",
    "df['Packet Drop Probability'] = df['Packet Drop Probability'].clip(0, 1)"
   ]
  },
  {
   "cell_type": "code",
   "execution_count": 47,
   "id": "ab03a458",
   "metadata": {},
   "outputs": [
    {
     "name": "stdout",
     "output_type": "stream",
     "text": [
      "Sample after clipping:\n"
     ]
    },
    {
     "data": {
      "text/html": [
       "<div>\n",
       "<style scoped>\n",
       "    .dataframe tbody tr th:only-of-type {\n",
       "        vertical-align: middle;\n",
       "    }\n",
       "\n",
       "    .dataframe tbody tr th {\n",
       "        vertical-align: top;\n",
       "    }\n",
       "\n",
       "    .dataframe thead th {\n",
       "        text-align: right;\n",
       "    }\n",
       "</style>\n",
       "<table border=\"1\" class=\"dataframe\">\n",
       "  <thead>\n",
       "    <tr style=\"text-align: right;\">\n",
       "      <th></th>\n",
       "      <th>Queue Utilization Ratio</th>\n",
       "      <th>Packet Drop Probability</th>\n",
       "    </tr>\n",
       "  </thead>\n",
       "  <tbody>\n",
       "    <tr>\n",
       "      <th>0</th>\n",
       "      <td>0.76</td>\n",
       "      <td>0.154205</td>\n",
       "    </tr>\n",
       "    <tr>\n",
       "      <th>1</th>\n",
       "      <td>0.56</td>\n",
       "      <td>0.107559</td>\n",
       "    </tr>\n",
       "    <tr>\n",
       "      <th>2</th>\n",
       "      <td>0.28</td>\n",
       "      <td>0.096912</td>\n",
       "    </tr>\n",
       "    <tr>\n",
       "      <th>3</th>\n",
       "      <td>0.84</td>\n",
       "      <td>0.102336</td>\n",
       "    </tr>\n",
       "    <tr>\n",
       "      <th>4</th>\n",
       "      <td>0.14</td>\n",
       "      <td>0.149147</td>\n",
       "    </tr>\n",
       "  </tbody>\n",
       "</table>\n",
       "</div>"
      ],
      "text/plain": [
       "   Queue Utilization Ratio  Packet Drop Probability\n",
       "0                     0.76                 0.154205\n",
       "1                     0.56                 0.107559\n",
       "2                     0.28                 0.096912\n",
       "3                     0.84                 0.102336\n",
       "4                     0.14                 0.149147"
      ]
     },
     "metadata": {},
     "output_type": "display_data"
    }
   ],
   "source": [
    "print(\"Sample after clipping:\")\n",
    "display(df[['Queue Utilization Ratio', 'Packet Drop Probability']].head(5))\n"
   ]
  },
  {
   "cell_type": "code",
   "execution_count": 48,
   "id": "af9f9957",
   "metadata": {},
   "outputs": [
    {
     "name": "stdout",
     "output_type": "stream",
     "text": [
      "\n",
      "Step 6: Scaling Numeric Features\n",
      "\n"
     ]
    }
   ],
   "source": [
    "print(\"\\nStep 6: Scaling Numeric Features\\n\")"
   ]
  },
  {
   "cell_type": "code",
   "execution_count": 49,
   "id": "b04fdc1d",
   "metadata": {},
   "outputs": [],
   "source": [
    "\n",
    "numeric_cols = [\n",
    "    'Current number of packets in queue',\n",
    "    'Remaining space to store the packets',\n",
    "    'Current queue size in percentage (%)',\n",
    "    'Old Average',\n",
    "    'Current Average',\n",
    "    'Queue Utilization Ratio',\n",
    "    'Packet Drop Probability'\n",
    "]"
   ]
  },
  {
   "cell_type": "code",
   "execution_count": 50,
   "id": "32beb6cb",
   "metadata": {},
   "outputs": [
    {
     "name": "stdout",
     "output_type": "stream",
     "text": [
      "Before Scaling:\n"
     ]
    },
    {
     "data": {
      "text/html": [
       "<div>\n",
       "<style scoped>\n",
       "    .dataframe tbody tr th:only-of-type {\n",
       "        vertical-align: middle;\n",
       "    }\n",
       "\n",
       "    .dataframe tbody tr th {\n",
       "        vertical-align: top;\n",
       "    }\n",
       "\n",
       "    .dataframe thead th {\n",
       "        text-align: right;\n",
       "    }\n",
       "</style>\n",
       "<table border=\"1\" class=\"dataframe\">\n",
       "  <thead>\n",
       "    <tr style=\"text-align: right;\">\n",
       "      <th></th>\n",
       "      <th>Current number of packets in queue</th>\n",
       "      <th>Remaining space to store the packets</th>\n",
       "      <th>Current queue size in percentage (%)</th>\n",
       "      <th>Old Average</th>\n",
       "      <th>Current Average</th>\n",
       "      <th>Queue Utilization Ratio</th>\n",
       "      <th>Packet Drop Probability</th>\n",
       "    </tr>\n",
       "  </thead>\n",
       "  <tbody>\n",
       "    <tr>\n",
       "      <th>0</th>\n",
       "      <td>38.0</td>\n",
       "      <td>12</td>\n",
       "      <td>76</td>\n",
       "      <td>27.870662</td>\n",
       "      <td>28.158006</td>\n",
       "      <td>0.76</td>\n",
       "      <td>0.154205</td>\n",
       "    </tr>\n",
       "    <tr>\n",
       "      <th>1</th>\n",
       "      <td>28.0</td>\n",
       "      <td>22</td>\n",
       "      <td>56</td>\n",
       "      <td>2.732616</td>\n",
       "      <td>2.692447</td>\n",
       "      <td>0.56</td>\n",
       "      <td>0.107559</td>\n",
       "    </tr>\n",
       "    <tr>\n",
       "      <th>2</th>\n",
       "      <td>14.0</td>\n",
       "      <td>36</td>\n",
       "      <td>28</td>\n",
       "      <td>21.660617</td>\n",
       "      <td>21.892917</td>\n",
       "      <td>0.28</td>\n",
       "      <td>0.096912</td>\n",
       "    </tr>\n",
       "    <tr>\n",
       "      <th>3</th>\n",
       "      <td>42.0</td>\n",
       "      <td>8</td>\n",
       "      <td>84</td>\n",
       "      <td>4.063781</td>\n",
       "      <td>4.204988</td>\n",
       "      <td>0.84</td>\n",
       "      <td>0.102336</td>\n",
       "    </tr>\n",
       "    <tr>\n",
       "      <th>4</th>\n",
       "      <td>7.0</td>\n",
       "      <td>43</td>\n",
       "      <td>14</td>\n",
       "      <td>0.601011</td>\n",
       "      <td>0.167125</td>\n",
       "      <td>0.14</td>\n",
       "      <td>0.149147</td>\n",
       "    </tr>\n",
       "  </tbody>\n",
       "</table>\n",
       "</div>"
      ],
      "text/plain": [
       "   Current number of packets in queue  Remaining space to store the packets   \n",
       "0                                38.0                                    12  \\\n",
       "1                                28.0                                    22   \n",
       "2                                14.0                                    36   \n",
       "3                                42.0                                     8   \n",
       "4                                 7.0                                    43   \n",
       "\n",
       "   Current queue size in percentage (%)  Old Average  Current Average   \n",
       "0                                    76    27.870662        28.158006  \\\n",
       "1                                    56     2.732616         2.692447   \n",
       "2                                    28    21.660617        21.892917   \n",
       "3                                    84     4.063781         4.204988   \n",
       "4                                    14     0.601011         0.167125   \n",
       "\n",
       "   Queue Utilization Ratio  Packet Drop Probability  \n",
       "0                     0.76                 0.154205  \n",
       "1                     0.56                 0.107559  \n",
       "2                     0.28                 0.096912  \n",
       "3                     0.84                 0.102336  \n",
       "4                     0.14                 0.149147  "
      ]
     },
     "metadata": {},
     "output_type": "display_data"
    }
   ],
   "source": [
    "print(\"Before Scaling:\")\n",
    "display(df[numeric_cols].head(5))"
   ]
  },
  {
   "cell_type": "code",
   "execution_count": 51,
   "id": "43328d76",
   "metadata": {},
   "outputs": [],
   "source": [
    "scaler = MinMaxScaler()\n",
    "df[numeric_cols] = scaler.fit_transform(df[numeric_cols])"
   ]
  },
  {
   "cell_type": "code",
   "execution_count": 52,
   "id": "66a8db55",
   "metadata": {},
   "outputs": [
    {
     "name": "stdout",
     "output_type": "stream",
     "text": [
      "After Scaling:\n"
     ]
    },
    {
     "data": {
      "text/html": [
       "<div>\n",
       "<style scoped>\n",
       "    .dataframe tbody tr th:only-of-type {\n",
       "        vertical-align: middle;\n",
       "    }\n",
       "\n",
       "    .dataframe tbody tr th {\n",
       "        vertical-align: top;\n",
       "    }\n",
       "\n",
       "    .dataframe thead th {\n",
       "        text-align: right;\n",
       "    }\n",
       "</style>\n",
       "<table border=\"1\" class=\"dataframe\">\n",
       "  <thead>\n",
       "    <tr style=\"text-align: right;\">\n",
       "      <th></th>\n",
       "      <th>Current number of packets in queue</th>\n",
       "      <th>Remaining space to store the packets</th>\n",
       "      <th>Current queue size in percentage (%)</th>\n",
       "      <th>Old Average</th>\n",
       "      <th>Current Average</th>\n",
       "      <th>Queue Utilization Ratio</th>\n",
       "      <th>Packet Drop Probability</th>\n",
       "    </tr>\n",
       "  </thead>\n",
       "  <tbody>\n",
       "    <tr>\n",
       "      <th>0</th>\n",
       "      <td>0.76</td>\n",
       "      <td>0.309091</td>\n",
       "      <td>0.506667</td>\n",
       "      <td>0.929032</td>\n",
       "      <td>0.912312</td>\n",
       "      <td>0.76</td>\n",
       "      <td>0.655254</td>\n",
       "    </tr>\n",
       "    <tr>\n",
       "      <th>1</th>\n",
       "      <td>0.56</td>\n",
       "      <td>0.490909</td>\n",
       "      <td>0.373333</td>\n",
       "      <td>0.091086</td>\n",
       "      <td>0.115102</td>\n",
       "      <td>0.56</td>\n",
       "      <td>0.457043</td>\n",
       "    </tr>\n",
       "    <tr>\n",
       "      <th>2</th>\n",
       "      <td>0.28</td>\n",
       "      <td>0.745455</td>\n",
       "      <td>0.186667</td>\n",
       "      <td>0.722028</td>\n",
       "      <td>0.716181</td>\n",
       "      <td>0.28</td>\n",
       "      <td>0.411801</td>\n",
       "    </tr>\n",
       "    <tr>\n",
       "      <th>3</th>\n",
       "      <td>0.84</td>\n",
       "      <td>0.236364</td>\n",
       "      <td>0.560000</td>\n",
       "      <td>0.135459</td>\n",
       "      <td>0.162453</td>\n",
       "      <td>0.84</td>\n",
       "      <td>0.434850</td>\n",
       "    </tr>\n",
       "    <tr>\n",
       "      <th>4</th>\n",
       "      <td>0.14</td>\n",
       "      <td>0.872727</td>\n",
       "      <td>0.093333</td>\n",
       "      <td>0.020032</td>\n",
       "      <td>0.036046</td>\n",
       "      <td>0.14</td>\n",
       "      <td>0.633760</td>\n",
       "    </tr>\n",
       "  </tbody>\n",
       "</table>\n",
       "</div>"
      ],
      "text/plain": [
       "   Current number of packets in queue  Remaining space to store the packets   \n",
       "0                                0.76                              0.309091  \\\n",
       "1                                0.56                              0.490909   \n",
       "2                                0.28                              0.745455   \n",
       "3                                0.84                              0.236364   \n",
       "4                                0.14                              0.872727   \n",
       "\n",
       "   Current queue size in percentage (%)  Old Average  Current Average   \n",
       "0                              0.506667     0.929032         0.912312  \\\n",
       "1                              0.373333     0.091086         0.115102   \n",
       "2                              0.186667     0.722028         0.716181   \n",
       "3                              0.560000     0.135459         0.162453   \n",
       "4                              0.093333     0.020032         0.036046   \n",
       "\n",
       "   Queue Utilization Ratio  Packet Drop Probability  \n",
       "0                     0.76                 0.655254  \n",
       "1                     0.56                 0.457043  \n",
       "2                     0.28                 0.411801  \n",
       "3                     0.84                 0.434850  \n",
       "4                     0.14                 0.633760  "
      ]
     },
     "metadata": {},
     "output_type": "display_data"
    }
   ],
   "source": [
    "print(\"After Scaling:\")\n",
    "display(df[numeric_cols].head(5))"
   ]
  },
  {
   "cell_type": "code",
   "execution_count": 53,
   "id": "6eda2a72",
   "metadata": {},
   "outputs": [
    {
     "name": "stdout",
     "output_type": "stream",
     "text": [
      "\n",
      "Step 7: Handling Label Issues\n",
      "\n"
     ]
    }
   ],
   "source": [
    "print(\"\\nStep 7: Handling Label Issues\\n\")"
   ]
  },
  {
   "cell_type": "code",
   "execution_count": 54,
   "id": "86780567",
   "metadata": {},
   "outputs": [
    {
     "name": "stdout",
     "output_type": "stream",
     "text": [
      "Unique values in Prediction: [1 0]\n",
      "Unique values in Congestion Level: [1 3 2 0]\n"
     ]
    }
   ],
   "source": [
    "print(\"Unique values in Prediction:\", df['Prediction'].unique())\n",
    "print(\"Unique values in Congestion Level:\", df['Congestion Level'].unique())"
   ]
  },
  {
   "cell_type": "code",
   "execution_count": 55,
   "id": "7bb1dd92",
   "metadata": {},
   "outputs": [],
   "source": [
    "df.reset_index(drop=True, inplace=True)\n"
   ]
  },
  {
   "cell_type": "code",
   "execution_count": 56,
   "id": "f8d7bfd6",
   "metadata": {},
   "outputs": [
    {
     "name": "stdout",
     "output_type": "stream",
     "text": [
      "\n",
      "Final Dataset Shape: (148733, 9)\n",
      "Final Dataset Info:\n",
      "<class 'pandas.core.frame.DataFrame'>\n",
      "RangeIndex: 148733 entries, 0 to 148732\n",
      "Data columns (total 9 columns):\n",
      " #   Column                                Non-Null Count   Dtype  \n",
      "---  ------                                --------------   -----  \n",
      " 0   Current number of packets in queue    148733 non-null  float64\n",
      " 1   Remaining space to store the packets  148733 non-null  float64\n",
      " 2   Current queue size in percentage (%)  148733 non-null  float64\n",
      " 3   Old Average                           147988 non-null  float64\n",
      " 4   Current Average                       148733 non-null  float64\n",
      " 5   Prediction                            148733 non-null  int64  \n",
      " 6   Queue Utilization Ratio               148733 non-null  float64\n",
      " 7   Packet Drop Probability               148733 non-null  float64\n",
      " 8   Congestion Level                      148733 non-null  int64  \n",
      "dtypes: float64(7), int64(2)\n",
      "memory usage: 10.2 MB\n"
     ]
    },
    {
     "data": {
      "text/html": [
       "<div>\n",
       "<style scoped>\n",
       "    .dataframe tbody tr th:only-of-type {\n",
       "        vertical-align: middle;\n",
       "    }\n",
       "\n",
       "    .dataframe tbody tr th {\n",
       "        vertical-align: top;\n",
       "    }\n",
       "\n",
       "    .dataframe thead th {\n",
       "        text-align: right;\n",
       "    }\n",
       "</style>\n",
       "<table border=\"1\" class=\"dataframe\">\n",
       "  <thead>\n",
       "    <tr style=\"text-align: right;\">\n",
       "      <th></th>\n",
       "      <th>Current number of packets in queue</th>\n",
       "      <th>Remaining space to store the packets</th>\n",
       "      <th>Current queue size in percentage (%)</th>\n",
       "      <th>Old Average</th>\n",
       "      <th>Current Average</th>\n",
       "      <th>Prediction</th>\n",
       "      <th>Queue Utilization Ratio</th>\n",
       "      <th>Packet Drop Probability</th>\n",
       "      <th>Congestion Level</th>\n",
       "    </tr>\n",
       "  </thead>\n",
       "  <tbody>\n",
       "    <tr>\n",
       "      <th>0</th>\n",
       "      <td>0.76</td>\n",
       "      <td>0.309091</td>\n",
       "      <td>0.506667</td>\n",
       "      <td>0.929032</td>\n",
       "      <td>0.912312</td>\n",
       "      <td>1</td>\n",
       "      <td>0.76</td>\n",
       "      <td>0.655254</td>\n",
       "      <td>1</td>\n",
       "    </tr>\n",
       "    <tr>\n",
       "      <th>1</th>\n",
       "      <td>0.56</td>\n",
       "      <td>0.490909</td>\n",
       "      <td>0.373333</td>\n",
       "      <td>0.091086</td>\n",
       "      <td>0.115102</td>\n",
       "      <td>0</td>\n",
       "      <td>0.56</td>\n",
       "      <td>0.457043</td>\n",
       "      <td>3</td>\n",
       "    </tr>\n",
       "    <tr>\n",
       "      <th>2</th>\n",
       "      <td>0.28</td>\n",
       "      <td>0.745455</td>\n",
       "      <td>0.186667</td>\n",
       "      <td>0.722028</td>\n",
       "      <td>0.716181</td>\n",
       "      <td>0</td>\n",
       "      <td>0.28</td>\n",
       "      <td>0.411801</td>\n",
       "      <td>2</td>\n",
       "    </tr>\n",
       "    <tr>\n",
       "      <th>3</th>\n",
       "      <td>0.84</td>\n",
       "      <td>0.236364</td>\n",
       "      <td>0.560000</td>\n",
       "      <td>0.135459</td>\n",
       "      <td>0.162453</td>\n",
       "      <td>1</td>\n",
       "      <td>0.84</td>\n",
       "      <td>0.434850</td>\n",
       "      <td>1</td>\n",
       "    </tr>\n",
       "    <tr>\n",
       "      <th>4</th>\n",
       "      <td>0.14</td>\n",
       "      <td>0.872727</td>\n",
       "      <td>0.093333</td>\n",
       "      <td>0.020032</td>\n",
       "      <td>0.036046</td>\n",
       "      <td>0</td>\n",
       "      <td>0.14</td>\n",
       "      <td>0.633760</td>\n",
       "      <td>2</td>\n",
       "    </tr>\n",
       "  </tbody>\n",
       "</table>\n",
       "</div>"
      ],
      "text/plain": [
       "   Current number of packets in queue  Remaining space to store the packets   \n",
       "0                                0.76                              0.309091  \\\n",
       "1                                0.56                              0.490909   \n",
       "2                                0.28                              0.745455   \n",
       "3                                0.84                              0.236364   \n",
       "4                                0.14                              0.872727   \n",
       "\n",
       "   Current queue size in percentage (%)  Old Average  Current Average   \n",
       "0                              0.506667     0.929032         0.912312  \\\n",
       "1                              0.373333     0.091086         0.115102   \n",
       "2                              0.186667     0.722028         0.716181   \n",
       "3                              0.560000     0.135459         0.162453   \n",
       "4                              0.093333     0.020032         0.036046   \n",
       "\n",
       "   Prediction  Queue Utilization Ratio  Packet Drop Probability   \n",
       "0           1                     0.76                 0.655254  \\\n",
       "1           0                     0.56                 0.457043   \n",
       "2           0                     0.28                 0.411801   \n",
       "3           1                     0.84                 0.434850   \n",
       "4           0                     0.14                 0.633760   \n",
       "\n",
       "   Congestion Level  \n",
       "0                 1  \n",
       "1                 3  \n",
       "2                 2  \n",
       "3                 1  \n",
       "4                 2  "
      ]
     },
     "metadata": {},
     "output_type": "display_data"
    }
   ],
   "source": [
    "print(\"\\nFinal Dataset Shape:\", df.shape)\n",
    "print(\"Final Dataset Info:\")\n",
    "df.info()\n",
    "display(df.head())"
   ]
  },
  {
   "cell_type": "code",
   "execution_count": 57,
   "id": "ade194e9",
   "metadata": {},
   "outputs": [
    {
     "name": "stdout",
     "output_type": "stream",
     "text": [
      "\n",
      "Cleaned dataset saved as: cleaned_dataset.csv\n"
     ]
    }
   ],
   "source": [
    "output_path = \"cleaned_dataset.csv\"\n",
    "df.to_csv(output_path, index=False)\n",
    "print(f\"\\nCleaned dataset saved as: {output_path}\")"
   ]
  },
  {
   "cell_type": "code",
   "execution_count": 58,
   "id": "54fb61cc",
   "metadata": {},
   "outputs": [
    {
     "name": "stdout",
     "output_type": "stream",
     "text": [
      "\n",
      "Thank You\n"
     ]
    }
   ],
   "source": [
    "print(f\"\\nThank You\")"
   ]
  },
  {
   "cell_type": "code",
   "execution_count": 59,
   "id": "8ad73e55",
   "metadata": {},
   "outputs": [
    {
     "name": "stdout",
     "output_type": "stream",
     "text": [
      "Current Working Directory: /home/ankit\n"
     ]
    }
   ],
   "source": [
    "import os\n",
    "print(\"Current Working Directory:\", os.getcwd())"
   ]
  },
  {
   "cell_type": "code",
   "execution_count": 60,
   "id": "90b5c98a",
   "metadata": {},
   "outputs": [
    {
     "name": "stdout",
     "output_type": "stream",
     "text": [
      "Number of rows: 148733\n",
      "Number of columns: 9\n"
     ]
    }
   ],
   "source": [
    "rows, cols = df.shape\n",
    "print(f\"Number of rows: {rows}\")\n",
    "print(f\"Number of columns: {cols}\")"
   ]
  },
  {
   "cell_type": "code",
   "execution_count": null,
   "id": "b2b6e5a3",
   "metadata": {},
   "outputs": [],
   "source": []
  }
 ],
 "metadata": {
  "kernelspec": {
   "display_name": "Python 3 (ipykernel)",
   "language": "python",
   "name": "python3"
  },
  "language_info": {
   "codemirror_mode": {
    "name": "ipython",
    "version": 3
   },
   "file_extension": ".py",
   "mimetype": "text/x-python",
   "name": "python",
   "nbconvert_exporter": "python",
   "pygments_lexer": "ipython3",
   "version": "3.10.12"
  }
 },
 "nbformat": 4,
 "nbformat_minor": 5
}
